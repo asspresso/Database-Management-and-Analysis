{
 "cells": [
  {
   "cell_type": "code",
   "execution_count": 1,
   "metadata": {},
   "outputs": [],
   "source": [
    "import numpy as np\n",
    "import pandas as pd\n",
    "from bs4 import BeautifulSoup\n",
    "import requests\n",
    "import re\n",
    "import json"
   ]
  },
  {
   "cell_type": "markdown",
   "metadata": {},
   "source": [
    "## 1. Retrieve the data, and examine it."
   ]
  },
  {
   "cell_type": "code",
   "execution_count": 2,
   "metadata": {},
   "outputs": [
    {
     "data": {
      "text/plain": [
       "[{'id': '2baf70d1-42bb-4437-b551-e5fed5a87abe',\n",
       "  'title': 'Castle in the Sky',\n",
       "  'original_title': '天空の城ラピュタ',\n",
       "  'original_title_romanised': 'Tenkū no shiro Rapyuta',\n",
       "  'description': \"The orphan Sheeta inherited a mysterious crystal that links her to the mythical sky-kingdom of Laputa. With the help of resourceful Pazu and a rollicking band of sky pirates, she makes her way to the ruins of the once-great civilization. Sheeta and Pazu must outwit the evil Muska, who plans to use Laputa's science to make himself ruler of the world.\",\n",
       "  'director': 'Hayao Miyazaki',\n",
       "  'producer': 'Isao Takahata',\n",
       "  'release_date': '1986',\n",
       "  'running_time': '124',\n",
       "  'rt_score': '95',\n",
       "  'people': ['https://ghibliapi.herokuapp.com/people/'],\n",
       "  'species': ['https://ghibliapi.herokuapp.com/species/af3910a6-429f-4c74-9ad5-dfe1c4aa04f2'],\n",
       "  'locations': ['https://ghibliapi.herokuapp.com/locations/'],\n",
       "  'vehicles': ['https://ghibliapi.herokuapp.com/vehicles/'],\n",
       "  'url': 'https://ghibliapi.herokuapp.com/films/2baf70d1-42bb-4437-b551-e5fed5a87abe'},\n",
       " {'id': '12cfb892-aac0-4c5b-94af-521852e46d6a',\n",
       "  'title': 'Grave of the Fireflies',\n",
       "  'original_title': '火垂るの墓',\n",
       "  'original_title_romanised': 'Hotaru no haka',\n",
       "  'description': 'In the latter part of World War II, a boy and his sister, orphaned when their mother is killed in the firebombing of Tokyo, are left to survive on their own in what remains of civilian life in Japan. The plot follows this boy and his sister as they do their best to survive in the Japanese countryside, battling hunger, prejudice, and pride in their own quiet, personal battle.',\n",
       "  'director': 'Isao Takahata',\n",
       "  'producer': 'Toru Hara',\n",
       "  'release_date': '1988',\n",
       "  'running_time': '89',\n",
       "  'rt_score': '97',\n",
       "  'people': ['https://ghibliapi.herokuapp.com/people/'],\n",
       "  'species': ['https://ghibliapi.herokuapp.com/species/af3910a6-429f-4c74-9ad5-dfe1c4aa04f2'],\n",
       "  'locations': ['https://ghibliapi.herokuapp.com/locations/'],\n",
       "  'vehicles': ['https://ghibliapi.herokuapp.com/vehicles/'],\n",
       "  'url': 'https://ghibliapi.herokuapp.com/films/12cfb892-aac0-4c5b-94af-521852e46d6a'},\n",
       " {'id': '58611129-2dbc-4a81-a72f-77ddfc1b1b49',\n",
       "  'title': 'My Neighbor Totoro',\n",
       "  'original_title': 'となりのトトロ',\n",
       "  'original_title_romanised': 'Tonari no Totoro',\n",
       "  'description': 'Two sisters move to the country with their father in order to be closer to their hospitalized mother, and discover the surrounding trees are inhabited by Totoros, magical spirits of the forest. When the youngest runs away from home, the older sister seeks help from the spirits to find her.',\n",
       "  'director': 'Hayao Miyazaki',\n",
       "  'producer': 'Hayao Miyazaki',\n",
       "  'release_date': '1988',\n",
       "  'running_time': '86',\n",
       "  'rt_score': '93',\n",
       "  'people': ['https://ghibliapi.herokuapp.com/people/986faac6-67e3-4fb8-a9ee-bad077c2e7fe',\n",
       "   'https://ghibliapi.herokuapp.com/people/d5df3c04-f355-4038-833c-83bd3502b6b9',\n",
       "   'https://ghibliapi.herokuapp.com/people/3031caa8-eb1a-41c6-ab93-dd091b541e11',\n",
       "   'https://ghibliapi.herokuapp.com/people/87b68b97-3774-495b-bf80-495a5f3e672d',\n",
       "   'https://ghibliapi.herokuapp.com/people/d39deecb-2bd0-4770-8b45-485f26e1381f',\n",
       "   'https://ghibliapi.herokuapp.com/people/591524bc-04fe-4e60-8d61-2425e42ffb2a',\n",
       "   'https://ghibliapi.herokuapp.com/people/c491755a-407d-4d6e-b58a-240ec78b5061',\n",
       "   'https://ghibliapi.herokuapp.com/people/f467e18e-3694-409f-bdb3-be891ade1106',\n",
       "   'https://ghibliapi.herokuapp.com/people/08ffbce4-7f94-476a-95bc-76d3c3969c19',\n",
       "   'https://ghibliapi.herokuapp.com/people/0f8ef701-b4c7-4f15-bd15-368c7fe38d0a'],\n",
       "  'species': ['https://ghibliapi.herokuapp.com/species/af3910a6-429f-4c74-9ad5-dfe1c4aa04f2',\n",
       "   'https://ghibliapi.herokuapp.com/species/603428ba-8a86-4b0b-a9f1-65df6abef3d3',\n",
       "   'https://ghibliapi.herokuapp.com/species/74b7f547-1577-4430-806c-c358c8b6bcf5'],\n",
       "  'locations': ['https://ghibliapi.herokuapp.com/locations/'],\n",
       "  'vehicles': ['https://ghibliapi.herokuapp.com/vehicles/'],\n",
       "  'url': 'https://ghibliapi.herokuapp.com/films/58611129-2dbc-4a81-a72f-77ddfc1b1b49'}]"
      ]
     },
     "execution_count": 2,
     "metadata": {},
     "output_type": "execute_result"
    }
   ],
   "source": [
    "# read and parse the url\n",
    "res = requests.get('http://linserv1.cims.nyu.edu:10000/films?_page=1')\n",
    "dom = json.loads(res.text)\n",
    "dom[:3]"
   ]
  },
  {
   "cell_type": "markdown",
   "metadata": {},
   "source": [
    "### Keys that may be interesting:\n",
    "* producer\n",
    "* rt_score"
   ]
  },
  {
   "cell_type": "code",
   "execution_count": 3,
   "metadata": {},
   "outputs": [
    {
     "data": {
      "text/plain": [
       "[{'id': 'dc2e6bd1-8156-4886-adff-b39e6043af0c',\n",
       "  'title': 'Spirited Away',\n",
       "  'original_title': '千と千尋の神隠し',\n",
       "  'original_title_romanised': 'Sen to Chihiro no kamikakushi',\n",
       "  'description': 'Spirited Away is an Oscar winning Japanese animated film about a ten year old girl who wanders away from her parents along a path that leads to a world ruled by strange and unusual monster-like animals. Her parents have been changed into pigs along with others inside a bathhouse full of these creatures. Will she ever see the world how it once was?',\n",
       "  'director': 'Hayao Miyazaki',\n",
       "  'producer': 'Toshio Suzuki',\n",
       "  'release_date': '2001',\n",
       "  'running_time': '124',\n",
       "  'rt_score': '97',\n",
       "  'people': ['https://ghibliapi.herokuapp.com/people/'],\n",
       "  'species': ['https://ghibliapi.herokuapp.com/species/af3910a6-429f-4c74-9ad5-dfe1c4aa04f2'],\n",
       "  'locations': ['https://ghibliapi.herokuapp.com/locations/'],\n",
       "  'vehicles': ['https://ghibliapi.herokuapp.com/vehicles/'],\n",
       "  'url': 'https://ghibliapi.herokuapp.com/films/dc2e6bd1-8156-4886-adff-b39e6043af0c'},\n",
       " {'id': '90b72513-afd4-4570-84de-a56c312fdf81',\n",
       "  'title': 'The Cat Returns',\n",
       "  'original_title': '猫の恩返し',\n",
       "  'original_title_romanised': 'Neko no ongaeshi',\n",
       "  'description': 'Haru, a schoolgirl bored by her ordinary routine, saves the life of an unusual cat and suddenly her world is transformed beyond anything she ever imagined. The Cat King rewards her good deed with a flurry of presents, including a very shocking proposal of marriage to his son! Haru embarks on an unexpected journey to the Kingdom of Cats where her eyes are opened to a whole other world.',\n",
       "  'director': 'Hiroyuki Morita',\n",
       "  'producer': 'Toshio Suzuki',\n",
       "  'release_date': '2002',\n",
       "  'running_time': '75',\n",
       "  'rt_score': '89',\n",
       "  'people': ['https://ghibliapi.herokuapp.com/people/'],\n",
       "  'species': ['https://ghibliapi.herokuapp.com/species/af3910a6-429f-4c74-9ad5-dfe1c4aa04f2'],\n",
       "  'locations': ['https://ghibliapi.herokuapp.com/locations/'],\n",
       "  'vehicles': ['https://ghibliapi.herokuapp.com/vehicles/'],\n",
       "  'url': 'https://ghibliapi.herokuapp.com/films/90b72513-afd4-4570-84de-a56c312fdf81'},\n",
       " {'id': 'cd3d059c-09f4-4ff3-8d63-bc765a5184fa',\n",
       "  'title': \"Howl's Moving Castle\",\n",
       "  'original_title': 'ハウルの動く城',\n",
       "  'original_title_romanised': 'Hauru no ugoku shiro',\n",
       "  'description': 'When Sophie, a shy young woman, is cursed with an old body by a spiteful witch, her only chance of breaking the spell lies with a self-indulgent yet insecure young wizard and his companions in his legged, walking home.',\n",
       "  'director': 'Hayao Miyazaki',\n",
       "  'producer': 'Toshio Suzuki',\n",
       "  'release_date': '2004',\n",
       "  'running_time': '119',\n",
       "  'rt_score': '87',\n",
       "  'people': ['https://ghibliapi.herokuapp.com/people/'],\n",
       "  'species': ['https://ghibliapi.herokuapp.com/species/af3910a6-429f-4c74-9ad5-dfe1c4aa04f2'],\n",
       "  'locations': ['https://ghibliapi.herokuapp.com/locations/'],\n",
       "  'vehicles': ['https://ghibliapi.herokuapp.com/vehicles/'],\n",
       "  'url': 'https://ghibliapi.herokuapp.com/films/cd3d059c-09f4-4ff3-8d63-bc765a5184fa'}]"
      ]
     },
     "execution_count": 3,
     "metadata": {},
     "output_type": "execute_result"
    }
   ],
   "source": [
    "# modify the url, read and parse again\n",
    "res = requests.get('http://linserv1.cims.nyu.edu:10000/films?_page=2')\n",
    "dom = json.loads(res.text)\n",
    "dom[:3]"
   ]
  },
  {
   "cell_type": "markdown",
   "metadata": {},
   "source": [
    "### Modifying results:\n",
    "After modifying the url, it shows a new page of films. We have shifted from page 1 to page 2."
   ]
  },
  {
   "cell_type": "markdown",
   "metadata": {},
   "source": [
    "## 2. Load the data into a DataFrame"
   ]
  },
  {
   "cell_type": "code",
   "execution_count": 4,
   "metadata": {},
   "outputs": [
    {
     "name": "stderr",
     "output_type": "stream",
     "text": [
      "C:\\Users\\Lucaw\\AppData\\Local\\Temp\\ipykernel_5224\\2958152810.py:5: FutureWarning: pandas.io.json.json_normalize is deprecated, use pandas.json_normalize instead.\n",
      "  df_p1 = json_normalize(films_p1)\n"
     ]
    }
   ],
   "source": [
    "# read and parse the original url\n",
    "from pandas.io.json import json_normalize\n",
    "res_1 = requests.get('http://linserv1.cims.nyu.edu:10000/films?_page=1')\n",
    "films_p1 = json.loads(res_1.text)\n",
    "df_p1 = json_normalize(films_p1)\n",
    "df_p1['rt_score'] = df_p1['rt_score'].astype('int64')"
   ]
  },
  {
   "cell_type": "code",
   "execution_count": 5,
   "metadata": {},
   "outputs": [
    {
     "name": "stderr",
     "output_type": "stream",
     "text": [
      "C:\\Users\\Lucaw\\AppData\\Local\\Temp\\ipykernel_5224\\3056530192.py:4: FutureWarning: pandas.io.json.json_normalize is deprecated, use pandas.json_normalize instead.\n",
      "  df_p2 = json_normalize(films_p2)\n"
     ]
    }
   ],
   "source": [
    "# page 2\n",
    "res_2 = requests.get('http://linserv1.cims.nyu.edu:10000/films?_page=2')\n",
    "films_p2 = json.loads(res_2.text)\n",
    "df_p2 = json_normalize(films_p2)\n",
    "df_p2['rt_score'] = df_p2['rt_score'].astype('int64')"
   ]
  },
  {
   "cell_type": "code",
   "execution_count": 6,
   "metadata": {},
   "outputs": [
    {
     "name": "stderr",
     "output_type": "stream",
     "text": [
      "C:\\Users\\Lucaw\\AppData\\Local\\Temp\\ipykernel_5224\\804478397.py:4: FutureWarning: pandas.io.json.json_normalize is deprecated, use pandas.json_normalize instead.\n",
      "  df_p3 = json_normalize(films_p3)\n"
     ]
    }
   ],
   "source": [
    "# page 3\n",
    "res_3 = requests.get('http://linserv1.cims.nyu.edu:10000/films?_page=3')\n",
    "films_p3 = json.loads(res_3.text)\n",
    "df_p3 = json_normalize(films_p3)\n",
    "df_p3['rt_score'] = df_p3['rt_score'].astype('int64')"
   ]
  },
  {
   "cell_type": "code",
   "execution_count": 7,
   "metadata": {},
   "outputs": [],
   "source": [
    "# concat the three pages of dataframe together\n",
    "df = pd.concat([df_p1, df_p2, df_p3])"
   ]
  },
  {
   "cell_type": "markdown",
   "metadata": {},
   "source": [
    "## 3. Report"
   ]
  },
  {
   "cell_type": "code",
   "execution_count": 8,
   "metadata": {},
   "outputs": [
    {
     "data": {
      "text/html": [
       "<div>\n",
       "<style scoped>\n",
       "    .dataframe tbody tr th:only-of-type {\n",
       "        vertical-align: middle;\n",
       "    }\n",
       "\n",
       "    .dataframe tbody tr th {\n",
       "        vertical-align: top;\n",
       "    }\n",
       "\n",
       "    .dataframe thead th {\n",
       "        text-align: right;\n",
       "    }\n",
       "</style>\n",
       "<table border=\"1\" class=\"dataframe\">\n",
       "  <thead>\n",
       "    <tr style=\"text-align: right;\">\n",
       "      <th></th>\n",
       "      <th>avg_rt_score</th>\n",
       "      <th>count</th>\n",
       "    </tr>\n",
       "    <tr>\n",
       "      <th>director</th>\n",
       "      <th></th>\n",
       "      <th></th>\n",
       "    </tr>\n",
       "  </thead>\n",
       "  <tbody>\n",
       "    <tr>\n",
       "      <th>Hiromasa Yonebayashi</th>\n",
       "      <td>93.500000</td>\n",
       "      <td>2</td>\n",
       "    </tr>\n",
       "    <tr>\n",
       "      <th>Michaël Dudok de Wit</th>\n",
       "      <td>93.000000</td>\n",
       "      <td>1</td>\n",
       "    </tr>\n",
       "    <tr>\n",
       "      <th>Hayao Miyazaki</th>\n",
       "      <td>92.777778</td>\n",
       "      <td>9</td>\n",
       "    </tr>\n",
       "    <tr>\n",
       "      <th>Yoshifumi Kondō</th>\n",
       "      <td>91.000000</td>\n",
       "      <td>1</td>\n",
       "    </tr>\n",
       "    <tr>\n",
       "      <th>Isao Takahata</th>\n",
       "      <td>90.000000</td>\n",
       "      <td>5</td>\n",
       "    </tr>\n",
       "    <tr>\n",
       "      <th>Hiroyuki Morita</th>\n",
       "      <td>89.000000</td>\n",
       "      <td>1</td>\n",
       "    </tr>\n",
       "    <tr>\n",
       "      <th>Gorō Miyazaki</th>\n",
       "      <td>62.000000</td>\n",
       "      <td>2</td>\n",
       "    </tr>\n",
       "  </tbody>\n",
       "</table>\n",
       "</div>"
      ],
      "text/plain": [
       "                      avg_rt_score  count\n",
       "director                                 \n",
       "Hiromasa Yonebayashi     93.500000      2\n",
       "Michaël Dudok de Wit     93.000000      1\n",
       "Hayao Miyazaki           92.777778      9\n",
       "Yoshifumi Kondō          91.000000      1\n",
       "Isao Takahata            90.000000      5\n",
       "Hiroyuki Morita          89.000000      1\n",
       "Gorō Miyazaki            62.000000      2"
      ]
     },
     "execution_count": 8,
     "metadata": {},
     "output_type": "execute_result"
    }
   ],
   "source": [
    "# group by average rt_score and film counts of the directors. Then sort the values.\n",
    "report = df.groupby('director', sort=True).agg(avg_rt_score = ('rt_score', np.mean), count = ('director', np.size)).sort_values(by='avg_rt_score', ascending=False)\n",
    "report"
   ]
  },
  {
   "cell_type": "code",
   "execution_count": null,
   "metadata": {},
   "outputs": [],
   "source": []
  }
 ],
 "metadata": {
  "kernelspec": {
   "display_name": "Python 3 (ipykernel)",
   "language": "python",
   "name": "python3"
  },
  "language_info": {
   "codemirror_mode": {
    "name": "ipython",
    "version": 3
   },
   "file_extension": ".py",
   "mimetype": "text/x-python",
   "name": "python",
   "nbconvert_exporter": "python",
   "pygments_lexer": "ipython3",
   "version": "3.9.12"
  }
 },
 "nbformat": 4,
 "nbformat_minor": 4
}
