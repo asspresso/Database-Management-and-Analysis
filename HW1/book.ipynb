{
 "cells": [
  {
   "cell_type": "markdown",
   "metadata": {},
   "source": [
    "## Introduction"
   ]
  },
  {
   "cell_type": "markdown",
   "metadata": {},
   "source": [
    "I downloaded two books by **Arthur Conan Doyle**, **A Study in Scarlet** and **The Adventures of Sherlock Holmes**. <br>\n",
    "<br>\n",
    "**A Study in Scarlet**: https://www.gutenberg.org/ebooks/244 <br>\n",
    "**The Adventures of Sherlock Holmes**: https://www.gutenberg.org/ebooks/1661 <br>\n",
    "<br>\n",
    "The encoding of both books is UTF-8.<br>\n",
    "<br>\n",
    "Copyright Status: Public domain in the USA <br>\n",
    "<br>\n",
    "**QUESTION: Who are the top 3 frequent characters in the two Sherlock Holmes books as a whole?**"
   ]
  },
  {
   "cell_type": "markdown",
   "metadata": {},
   "source": [
    "## Analysis"
   ]
  },
  {
   "cell_type": "markdown",
   "metadata": {},
   "source": [
    "Firstly, we open the two .txt files and split them into words"
   ]
  },
  {
   "cell_type": "code",
   "execution_count": 37,
   "metadata": {},
   "outputs": [],
   "source": [
    "file_1 = open('data/A Study In Scarlet.txt', 'r', encoding = 'utf-8')\n",
    "data_1 = file_1.read()\n",
    "words_1 = data_1.split()\n",
    "file_1.close()\n",
    "\n",
    "file_2 = open('data/The Adventures of Sherlock Holmes.txt', 'r', encoding = 'utf-8')\n",
    "data_2 = file_2.read()\n",
    "words_2 = data_2.split()\n",
    "file_2.close()"
   ]
  },
  {
   "cell_type": "markdown",
   "metadata": {},
   "source": [
    "Then we count the frequency of words in both books as a whole. <br>\n",
    "Notice that we only need to take words **starting with an uppercase letter** into account, as we are focusing on names. <br>\n",
    "Also, we need to **get rid of unwanted characters like '.,-_?!'**"
   ]
  },
  {
   "cell_type": "code",
   "execution_count": 38,
   "metadata": {},
   "outputs": [],
   "source": [
    "wordfreq = {}\n",
    "unwanted_chars = \".,-_?!\"\n",
    "for word in words_1:  \n",
    "    if word[0].isupper():\n",
    "        word = word.strip(unwanted_chars)\n",
    "        if word not in wordfreq:\n",
    "            wordfreq[word] = 0\n",
    "        wordfreq[word] += 1\n",
    "        \n",
    "for word in words_2:\n",
    "    if word[0].isupper():\n",
    "        word = word.strip(unwanted_chars)\n",
    "        if word not in wordfreq:\n",
    "            wordfreq[word] = 0\n",
    "        wordfreq[word] += 1"
   ]
  },
  {
   "cell_type": "markdown",
   "metadata": {},
   "source": [
    "Now we sort the dict by value in a reversed order. <br>\n",
    "Then we choose to print out the top 50 frequent words."
   ]
  },
  {
   "cell_type": "code",
   "execution_count": 39,
   "metadata": {},
   "outputs": [
    {
     "name": "stdout",
     "output_type": "stream",
     "text": [
      "{'I': 3373, 'Holmes': 484, 'The': 437, 'He': 415, 'It': 384, 'Mr': 295, 'There': 193, 'You': 189, 'Project': 159, 'Sherlock': 144, 'We': 117, 'But': 112, 'Gutenberg-tm': 110, 'A': 108, 'If': 105, 'As': 103, 'In': 100, 'And': 98, 'Then': 96, 'She': 95, 'His': 86, 'This': 83, 'St': 82, 'That': 78, 'Miss': 78, 'They': 77, 'Lestrade': 75, 'My': 73, 'When': 72, 'On': 64, 'What': 64, 'Street': 64, 'Now': 63, 'Watson': 59, 'At': 58, 'London': 50, 'John': 50, 'Drebber': 49, 'Ferrier': 46, 'Baker': 45, 'Gutenberg': 44, 'With': 44, 'Mrs': 43, 'THE': 41, 'Lord': 41, 'Hope': 40, 'So': 39, 'Foundation': 38, 'For': 37, 'Jefferson': 37}\n"
     ]
    }
   ],
   "source": [
    "wordfreq = {word: freq for word, freq in sorted(wordfreq.items(), key=lambda item: item[1], reverse = True)}\n",
    "top_50 = dict(list(wordfreq.items())[0: 50])\n",
    "print(top_50)"
   ]
  },
  {
   "cell_type": "markdown",
   "metadata": {},
   "source": [
    "Now we notice that top frequency names are 'Holmes', 'Sherlock', 'Lestrade', 'Watson', 'John', etc <br>\n",
    "Therefore, the top 3 frequent characters in the two books are **'Sherlock Homes'**, **'John Watson'** (for sure) and **'Lestrade'**. <br>\n",
    "It's a bit surprising that **Lestrade has a higher frequency than Watson**. But this makes sense as we realize that **all stories are narrated by Watson**."
   ]
  },
  {
   "cell_type": "code",
   "execution_count": null,
   "metadata": {},
   "outputs": [],
   "source": []
  }
 ],
 "metadata": {
  "kernelspec": {
   "display_name": "Python 3 (ipykernel)",
   "language": "python",
   "name": "python3"
  },
  "language_info": {
   "codemirror_mode": {
    "name": "ipython",
    "version": 3
   },
   "file_extension": ".py",
   "mimetype": "text/x-python",
   "name": "python",
   "nbconvert_exporter": "python",
   "pygments_lexer": "ipython3",
   "version": "3.9.12"
  }
 },
 "nbformat": 4,
 "nbformat_minor": 4
}
