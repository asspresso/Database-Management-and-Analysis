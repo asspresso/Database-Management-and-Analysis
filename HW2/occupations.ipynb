{
 "cells": [
  {
   "cell_type": "markdown",
   "id": "6857504c-31f0-41dc-9247-2c0316a8fc50",
   "metadata": {},
   "source": [
    "# Homework 02"
   ]
  },
  {
   "cell_type": "markdown",
   "id": "6aa040be-d59d-41ff-a559-b877f48cc393",
   "metadata": {},
   "source": [
    "# Table of Contents\n",
    "\n",
    "* [first lambda](#first-lambda)\n",
    "* [second lambda](#second-lambda)"
   ]
  },
  {
   "cell_type": "markdown",
   "id": "4aeb907c-2552-4b69-81ff-9a40f4e4d5bf",
   "metadata": {},
   "source": [
    "# Part 1"
   ]
  },
  {
   "cell_type": "markdown",
   "id": "0e754169-9e82-4e60-9fb7-407a5cd9b6a8",
   "metadata": {},
   "source": [
    "### first-lambda"
   ]
  },
  {
   "cell_type": "code",
   "execution_count": 1,
   "id": "ef325df0-23aa-4a67-9056-b1271767446b",
   "metadata": {},
   "outputs": [
    {
     "name": "stdout",
     "output_type": "stream",
     "text": [
      "('Data Entry Keyers', '35850') ('Computer and Information Systems Managers', '161730')\n"
     ]
    }
   ],
   "source": [
    "import csv\n",
    "\n",
    "with open(\"occupations-truncated.csv\", \"r\") as f:\n",
    "    next(f)\n",
    "    data = csv.reader(f, delimiter = ',')\n",
    "    new_data = [(i[1], i[4][1:].replace(',', '')) for i in data if i[2] == 'detail' and ('computer' in i[1] or 'Computer' in i[1] or 'data' in i[1] or 'Data' in i[1])]\n",
    "    print(min(new_data, key=lambda x: int(x[1])), max(new_data, key=lambda x: int(x[1])))"
   ]
  },
  {
   "cell_type": "markdown",
   "id": "f39aba51-12a9-44fb-9ef7-d615276740d9",
   "metadata": {
    "tags": []
   },
   "source": [
    "# Part 3\n",
    "### Preparation: import nelta and read the csv file"
   ]
  },
  {
   "cell_type": "code",
   "execution_count": 2,
   "id": "47d13140-2631-407b-8eac-5880644d409e",
   "metadata": {},
   "outputs": [],
   "source": [
    "import nelta as nt\n",
    "data = nt.read_csv(\"occupations-truncated.csv\")"
   ]
  },
  {
   "cell_type": "markdown",
   "id": "86e1fb88-8657-43e9-855f-2f6e45e26e54",
   "metadata": {},
   "source": [
    "### Q1"
   ]
  },
  {
   "cell_type": "code",
   "execution_count": 3,
   "id": "f24c36d7-64c0-4a77-b78e-007c8ab7a435",
   "metadata": {},
   "outputs": [
    {
     "name": "stdout",
     "output_type": "stream",
     "text": [
      "(1034, 5)\n"
     ]
    }
   ],
   "source": [
    "print(data.shape())"
   ]
  },
  {
   "cell_type": "markdown",
   "id": "865fd1d2-43f8-400a-89c6-0376660bb84d",
   "metadata": {},
   "source": [
    "### Q2"
   ]
  },
  {
   "cell_type": "code",
   "execution_count": 4,
   "id": "372093da-05f3-40e8-90b2-93ca3857ea08",
   "metadata": {},
   "outputs": [
    {
     "name": "stdout",
     "output_type": "stream",
     "text": [
      "['Occupation code', 'Occupation title', 'Level', 'Employment', 'Annual mean wage']\n"
     ]
    }
   ],
   "source": [
    "print(data.columns)"
   ]
  },
  {
   "cell_type": "markdown",
   "id": "f70e1fe8-ba75-4520-a566-c24c8ce670a2",
   "metadata": {},
   "source": [
    "### Q3"
   ]
  },
  {
   "cell_type": "code",
   "execution_count": 5,
   "id": "fc711c52-cca7-4bc3-bf16-9af91989f949",
   "metadata": {},
   "outputs": [
    {
     "name": "stdout",
     "output_type": "stream",
     "text": [
      "    Occupation code         Occupation title    Level    Employment   Annual mean wage   \n",
      "0           00-0000          All Occupations    total   139099570.0            $56,310   \n",
      "1           11-0000   Management Occupations    major     7947300.0           $126,480   \n",
      "2           11-1000           Top Executives    minor     2601070.0           $129,920   \n",
      "3           11-1011         Chief Executives   detail      202360.0           $197,840   \n",
      "\n"
     ]
    }
   ],
   "source": [
    "print(data.head(4))"
   ]
  },
  {
   "cell_type": "markdown",
   "id": "435ce271-7b0d-4bda-9108-6c048fb2ec2f",
   "metadata": {},
   "source": [
    "### Q4"
   ]
  },
  {
   "cell_type": "code",
   "execution_count": 6,
   "id": "8bf99fa9-7be8-46ca-96ed-1f0c2f3f88cd",
   "metadata": {},
   "outputs": [],
   "source": [
    "last_four = data.tail(4)"
   ]
  },
  {
   "cell_type": "markdown",
   "id": "1909f897-ca8b-4924-98d1-1faf790989f9",
   "metadata": {},
   "source": [
    "### Q5"
   ]
  },
  {
   "cell_type": "code",
   "execution_count": 7,
   "id": "363ebeb7-f942-4b3d-bef9-a91a55d800e7",
   "metadata": {},
   "outputs": [
    {
     "name": "stdout",
     "output_type": "stream",
     "text": [
      "1030 12050.0\n",
      "1031 120850.0\n",
      "1032 12610.0\n",
      "1033 26300.0\n",
      "\n"
     ]
    }
   ],
   "source": [
    "print(last_four[\"Employment\"])"
   ]
  },
  {
   "cell_type": "markdown",
   "id": "1bd896f1-c92a-4e9f-9a37-ed907ea9e9a2",
   "metadata": {},
   "source": [
    "### Q6"
   ]
  },
  {
   "cell_type": "code",
   "execution_count": 8,
   "id": "3729061a-fa7f-4d32-b160-7dec8e59c027",
   "metadata": {},
   "outputs": [
    {
     "name": "stdout",
     "output_type": "stream",
     "text": [
      "12050.0\n",
      "120850.0\n",
      "12610.0\n",
      "26300.0\n"
     ]
    }
   ],
   "source": [
    "for val in last_four[\"Employment\"]:\n",
    "    print(val)"
   ]
  },
  {
   "cell_type": "markdown",
   "id": "e830e274-2908-4d19-8c23-a49cb9fdc5fd",
   "metadata": {},
   "source": [
    "### Q7"
   ]
  },
  {
   "cell_type": "code",
   "execution_count": 9,
   "id": "5b0ef9e6-6592-496d-8743-57bf3b1ab9f5",
   "metadata": {},
   "outputs": [
    {
     "name": "stdout",
     "output_type": "stream",
     "text": [
      "                                Occupation title   Employment   \n",
      "1030                            Wellhead Pumpers      12050.0   \n",
      "1031   Refuse and Recyclable Material Collectors     120850.0   \n",
      "1032           Tank Car, Truck, and Ship Loaders      12610.0   \n",
      "1033          Material Moving Workers, All Other      26300.0   \n",
      "\n"
     ]
    }
   ],
   "source": [
    "print(last_four[[\"Occupation title\", \"Employment\"]])"
   ]
  },
  {
   "cell_type": "markdown",
   "id": "c1dac393-1935-4842-b7f4-e0f861fea626",
   "metadata": {},
   "source": [
    "### Q8"
   ]
  },
  {
   "cell_type": "code",
   "execution_count": 10,
   "id": "14e514ed-d6e8-491d-91c5-d750a5face49",
   "metadata": {},
   "outputs": [],
   "source": [
    "col_list = []\n",
    "for i in data.values:\n",
    "    col_list.append(i[2] == 'detail')\n",
    "details = data[col_list]"
   ]
  },
  {
   "cell_type": "markdown",
   "id": "550133ac-3056-46c2-b371-56c2159a9455",
   "metadata": {},
   "source": [
    "### Q9"
   ]
  },
  {
   "cell_type": "code",
   "execution_count": 11,
   "id": "b1941f5c-9718-45d6-b674-981cfdd13241",
   "metadata": {},
   "outputs": [
    {
     "name": "stdout",
     "output_type": "stream",
     "text": [
      "772\n"
     ]
    }
   ],
   "source": [
    "print(len(details.index))"
   ]
  },
  {
   "cell_type": "markdown",
   "id": "016aa87a-b895-4efa-bb0d-66c9b269acc3",
   "metadata": {},
   "source": [
    "### Q10"
   ]
  },
  {
   "cell_type": "code",
   "execution_count": 12,
   "id": "cf95c422-c33b-45dd-bb16-04fcb0477820",
   "metadata": {},
   "outputs": [],
   "source": [
    "my_filter = details[\"Employment\"] < 500"
   ]
  },
  {
   "cell_type": "markdown",
   "id": "f5d0aa35-ff91-477b-a179-4f2b0894df3e",
   "metadata": {},
   "source": [
    "### Q11"
   ]
  },
  {
   "cell_type": "code",
   "execution_count": 13,
   "id": "ee520a02-135c-4249-b10d-bd32d7e0e425",
   "metadata": {},
   "outputs": [
    {
     "name": "stdout",
     "output_type": "stream",
     "text": [
      "<class 'nelta.LabeledList'>\n"
     ]
    }
   ],
   "source": [
    "print(type(my_filter))"
   ]
  },
  {
   "cell_type": "markdown",
   "id": "97773450-8234-4a6a-b409-7d324ac3d088",
   "metadata": {},
   "source": [
    "### Q12"
   ]
  },
  {
   "cell_type": "code",
   "execution_count": 14,
   "id": "f362652d-4acb-4e78-bd7b-454804cedd6c",
   "metadata": {},
   "outputs": [
    {
     "name": "stdout",
     "output_type": "stream",
     "text": [
      "False\n"
     ]
    }
   ],
   "source": [
    "print(my_filter[3])"
   ]
  },
  {
   "cell_type": "markdown",
   "id": "04fbd3cf-7efa-476f-8f88-4f9b4ba8ebb8",
   "metadata": {},
   "source": [
    "### Q13, Q14"
   ]
  },
  {
   "cell_type": "code",
   "execution_count": 15,
   "id": "f8dccbd4-8aa9-412f-87d6-49f00e3dede5",
   "metadata": {},
   "outputs": [
    {
     "name": "stdout",
     "output_type": "stream",
     "text": [
      "      Occupation code           Occupation title    Level   Employment   Annual mean wage   \n",
      "508           35-2013   Cooks, Private Household   detail        320.0            $46,810   \n",
      "916           51-7032        Patternmakers, Wood   detail        190.0            $60,750   \n",
      "\n"
     ]
    }
   ],
   "source": [
    "rare_occ = details[my_filter]\n",
    "print(rare_occ)"
   ]
  },
  {
   "cell_type": "markdown",
   "id": "7671b686-8ef0-4458-adbf-f3f882e6c4bb",
   "metadata": {},
   "source": [
    "### Q15"
   ]
  },
  {
   "cell_type": "markdown",
   "id": "6dac6ac7-5ad8-4ee7-8eb5-6a827c05862b",
   "metadata": {},
   "source": [
    "### second-lambda"
   ]
  },
  {
   "cell_type": "code",
   "execution_count": 16,
   "id": "fcc496c2-f59b-4e0c-b54f-10014033f381",
   "metadata": {},
   "outputs": [
    {
     "name": "stdout",
     "output_type": "stream",
     "text": [
      "508 COOKS, PRIVATE HOUSEHOLD\n",
      "916 PATTERNMAKERS, WOOD\n",
      "\n"
     ]
    }
   ],
   "source": [
    "print(rare_occ[\"Occupation title\"].map(lambda x: x.upper()))"
   ]
  },
  {
   "cell_type": "markdown",
   "id": "e3575b73-4043-4d0b-8fb3-1d5e7a17a4e0",
   "metadata": {},
   "source": [
    "### Q16"
   ]
  },
  {
   "cell_type": "code",
   "execution_count": 17,
   "id": "47fef067-15fb-43cc-b4b1-3601d1754a8e",
   "metadata": {},
   "outputs": [
    {
     "name": "stdout",
     "output_type": "stream",
     "text": [
      "      Occupation code                                Occupation title    Level   Employment   Annual mean wage   \n",
      "383           29-1022                 Oral and Maxillofacial Surgeons   detail       4120.0           $234,990   \n",
      "384           29-1023                                   Orthodontists   detail       5040.0           $237,990   \n",
      "385           29-1024                                 Prosthodontists   detail        530.0           $214,870   \n",
      "407           29-1211                               Anesthesiologists   detail      28590.0           $271,440   \n",
      "408           29-1215                      Family Medicine Physicians   detail      98590.0           $214,370   \n",
      "409           29-1216            General Internal Medicine Physicians   detail      50600.0           $210,960   \n",
      "410           29-1218                 Obstetricians and Gynecologists   detail      18900.0           $239,120   \n",
      "412           29-1223                                   Psychiatrists   detail      25540.0           $217,100   \n",
      "413           29-1228   Physicians, All Other; and Ophthalmologist...   detail     375390.0           $218,850   \n",
      "414           29-1248               Surgeons, Except Ophthalmologists   detail      37900.0           $251,650   \n",
      "\n"
     ]
    }
   ],
   "source": [
    "another_filter = [int(i[1:].replace(',', '')) > 200000 for i in data[\"Annual mean wage\"].values]\n",
    "print(data[another_filter])"
   ]
  },
  {
   "cell_type": "code",
   "execution_count": null,
   "id": "6fa7263b-8a94-4ffd-a1a3-70d63c51eb76",
   "metadata": {},
   "outputs": [],
   "source": []
  }
 ],
 "metadata": {
  "kernelspec": {
   "display_name": "Python 3 (ipykernel)",
   "language": "python",
   "name": "python3"
  },
  "language_info": {
   "codemirror_mode": {
    "name": "ipython",
    "version": 3
   },
   "file_extension": ".py",
   "mimetype": "text/x-python",
   "name": "python",
   "nbconvert_exporter": "python",
   "pygments_lexer": "ipython3",
   "version": "3.9.12"
  }
 },
 "nbformat": 4,
 "nbformat_minor": 5
}
