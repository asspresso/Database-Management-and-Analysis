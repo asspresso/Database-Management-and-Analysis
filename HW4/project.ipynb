{
 "cells": [
  {
   "cell_type": "markdown",
   "metadata": {},
   "source": [
    "# Documentation\n",
    "* I decided to use the dataset from my previous assignment.\n",
    "* Please check previous assignment for documentation."
   ]
  },
  {
   "cell_type": "markdown",
   "metadata": {},
   "source": [
    "# Create DataFrame"
   ]
  },
  {
   "cell_type": "code",
   "execution_count": 4,
   "metadata": {},
   "outputs": [
    {
     "data": {
      "text/html": [
       "<div>\n",
       "<style scoped>\n",
       "    .dataframe tbody tr th:only-of-type {\n",
       "        vertical-align: middle;\n",
       "    }\n",
       "\n",
       "    .dataframe tbody tr th {\n",
       "        vertical-align: top;\n",
       "    }\n",
       "\n",
       "    .dataframe thead th {\n",
       "        text-align: right;\n",
       "    }\n",
       "</style>\n",
       "<table border=\"1\" class=\"dataframe\">\n",
       "  <thead>\n",
       "    <tr style=\"text-align: right;\">\n",
       "      <th></th>\n",
       "      <th>id</th>\n",
       "      <th>manufacturer</th>\n",
       "      <th>company_location</th>\n",
       "      <th>year_reviewed</th>\n",
       "      <th>bean_origin</th>\n",
       "      <th>bar_name</th>\n",
       "      <th>cocoa_percent</th>\n",
       "      <th>num_ingredients</th>\n",
       "      <th>ingredients</th>\n",
       "      <th>review</th>\n",
       "      <th>rating</th>\n",
       "    </tr>\n",
       "  </thead>\n",
       "  <tbody>\n",
       "    <tr>\n",
       "      <th>0</th>\n",
       "      <td>2454</td>\n",
       "      <td>5150</td>\n",
       "      <td>U.S.A.</td>\n",
       "      <td>2019</td>\n",
       "      <td>Tanzania</td>\n",
       "      <td>Kokoa Kamili, batch 1</td>\n",
       "      <td>76.0</td>\n",
       "      <td>3.0</td>\n",
       "      <td>B,S,C</td>\n",
       "      <td>rich cocoa, fatty, bready</td>\n",
       "      <td>3.25</td>\n",
       "    </tr>\n",
       "    <tr>\n",
       "      <th>1</th>\n",
       "      <td>2458</td>\n",
       "      <td>5150</td>\n",
       "      <td>U.S.A.</td>\n",
       "      <td>2019</td>\n",
       "      <td>Dominican Republic</td>\n",
       "      <td>Zorzal, batch 1</td>\n",
       "      <td>76.0</td>\n",
       "      <td>3.0</td>\n",
       "      <td>B,S,C</td>\n",
       "      <td>cocoa, vegetal, savory</td>\n",
       "      <td>3.50</td>\n",
       "    </tr>\n",
       "    <tr>\n",
       "      <th>2</th>\n",
       "      <td>2454</td>\n",
       "      <td>5150</td>\n",
       "      <td>U.S.A.</td>\n",
       "      <td>2019</td>\n",
       "      <td>Madagascar</td>\n",
       "      <td>Bejofo Estate, batch 1</td>\n",
       "      <td>76.0</td>\n",
       "      <td>3.0</td>\n",
       "      <td>B,S,C</td>\n",
       "      <td>cocoa, blackberry, full body</td>\n",
       "      <td>3.75</td>\n",
       "    </tr>\n",
       "    <tr>\n",
       "      <th>3</th>\n",
       "      <td>2542</td>\n",
       "      <td>5150</td>\n",
       "      <td>U.S.A.</td>\n",
       "      <td>2021</td>\n",
       "      <td>Fiji</td>\n",
       "      <td>Matasawalevu, batch 1</td>\n",
       "      <td>68.0</td>\n",
       "      <td>3.0</td>\n",
       "      <td>B,S,C</td>\n",
       "      <td>chewy, off, rubbery</td>\n",
       "      <td>3.00</td>\n",
       "    </tr>\n",
       "    <tr>\n",
       "      <th>4</th>\n",
       "      <td>2546</td>\n",
       "      <td>5150</td>\n",
       "      <td>U.S.A.</td>\n",
       "      <td>2021</td>\n",
       "      <td>Venezuela</td>\n",
       "      <td>Sur del Lago, batch 1</td>\n",
       "      <td>72.0</td>\n",
       "      <td>3.0</td>\n",
       "      <td>B,S,C</td>\n",
       "      <td>fatty, earthy, moss, nutty,chalky</td>\n",
       "      <td>3.00</td>\n",
       "    </tr>\n",
       "    <tr>\n",
       "      <th>...</th>\n",
       "      <td>...</td>\n",
       "      <td>...</td>\n",
       "      <td>...</td>\n",
       "      <td>...</td>\n",
       "      <td>...</td>\n",
       "      <td>...</td>\n",
       "      <td>...</td>\n",
       "      <td>...</td>\n",
       "      <td>...</td>\n",
       "      <td>...</td>\n",
       "      <td>...</td>\n",
       "    </tr>\n",
       "    <tr>\n",
       "      <th>2525</th>\n",
       "      <td>1205</td>\n",
       "      <td>Zotter</td>\n",
       "      <td>Austria</td>\n",
       "      <td>2014</td>\n",
       "      <td>Blend</td>\n",
       "      <td>Raw</td>\n",
       "      <td>80.0</td>\n",
       "      <td>4.0</td>\n",
       "      <td>B,S*,C,Sa</td>\n",
       "      <td>waxy, cloying, vegetal</td>\n",
       "      <td>2.75</td>\n",
       "    </tr>\n",
       "    <tr>\n",
       "      <th>2526</th>\n",
       "      <td>1996</td>\n",
       "      <td>Zotter</td>\n",
       "      <td>Austria</td>\n",
       "      <td>2017</td>\n",
       "      <td>Colombia</td>\n",
       "      <td>APROCAFA, Acandi</td>\n",
       "      <td>75.0</td>\n",
       "      <td>3.0</td>\n",
       "      <td>B,S,C</td>\n",
       "      <td>strong nutty, marshmallow</td>\n",
       "      <td>3.75</td>\n",
       "    </tr>\n",
       "    <tr>\n",
       "      <th>2527</th>\n",
       "      <td>2036</td>\n",
       "      <td>Zotter</td>\n",
       "      <td>Austria</td>\n",
       "      <td>2018</td>\n",
       "      <td>Blend</td>\n",
       "      <td>Dry Aged, 30 yr Anniversary bar</td>\n",
       "      <td>75.0</td>\n",
       "      <td>3.0</td>\n",
       "      <td>B,S,C</td>\n",
       "      <td>fatty, earthy, cocoa</td>\n",
       "      <td>3.00</td>\n",
       "    </tr>\n",
       "    <tr>\n",
       "      <th>2528</th>\n",
       "      <td>2170</td>\n",
       "      <td>Zotter</td>\n",
       "      <td>Austria</td>\n",
       "      <td>2018</td>\n",
       "      <td>Congo</td>\n",
       "      <td>Mountains of the Moon</td>\n",
       "      <td>70.0</td>\n",
       "      <td>3.0</td>\n",
       "      <td>B,S,C</td>\n",
       "      <td>fatty, mild nuts, mild fruit</td>\n",
       "      <td>3.25</td>\n",
       "    </tr>\n",
       "    <tr>\n",
       "      <th>2529</th>\n",
       "      <td>2170</td>\n",
       "      <td>Zotter</td>\n",
       "      <td>Austria</td>\n",
       "      <td>2018</td>\n",
       "      <td>Belize</td>\n",
       "      <td>Maya Mtn</td>\n",
       "      <td>72.0</td>\n",
       "      <td>3.0</td>\n",
       "      <td>B,S,C</td>\n",
       "      <td>muted, roasty, accessible</td>\n",
       "      <td>3.50</td>\n",
       "    </tr>\n",
       "  </tbody>\n",
       "</table>\n",
       "<p>2530 rows × 11 columns</p>\n",
       "</div>"
      ],
      "text/plain": [
       "        id manufacturer company_location  year_reviewed         bean_origin  \\\n",
       "0     2454         5150           U.S.A.           2019            Tanzania   \n",
       "1     2458         5150           U.S.A.           2019  Dominican Republic   \n",
       "2     2454         5150           U.S.A.           2019          Madagascar   \n",
       "3     2542         5150           U.S.A.           2021                Fiji   \n",
       "4     2546         5150           U.S.A.           2021           Venezuela   \n",
       "...    ...          ...              ...            ...                 ...   \n",
       "2525  1205       Zotter          Austria           2014               Blend   \n",
       "2526  1996       Zotter          Austria           2017            Colombia   \n",
       "2527  2036       Zotter          Austria           2018               Blend   \n",
       "2528  2170       Zotter          Austria           2018               Congo   \n",
       "2529  2170       Zotter          Austria           2018              Belize   \n",
       "\n",
       "                             bar_name  cocoa_percent  num_ingredients  \\\n",
       "0               Kokoa Kamili, batch 1           76.0              3.0   \n",
       "1                     Zorzal, batch 1           76.0              3.0   \n",
       "2              Bejofo Estate, batch 1           76.0              3.0   \n",
       "3               Matasawalevu, batch 1           68.0              3.0   \n",
       "4               Sur del Lago, batch 1           72.0              3.0   \n",
       "...                               ...            ...              ...   \n",
       "2525                              Raw           80.0              4.0   \n",
       "2526                 APROCAFA, Acandi           75.0              3.0   \n",
       "2527  Dry Aged, 30 yr Anniversary bar           75.0              3.0   \n",
       "2528            Mountains of the Moon           70.0              3.0   \n",
       "2529                         Maya Mtn           72.0              3.0   \n",
       "\n",
       "     ingredients                             review  rating  \n",
       "0          B,S,C          rich cocoa, fatty, bready    3.25  \n",
       "1          B,S,C             cocoa, vegetal, savory    3.50  \n",
       "2          B,S,C       cocoa, blackberry, full body    3.75  \n",
       "3          B,S,C                chewy, off, rubbery    3.00  \n",
       "4          B,S,C  fatty, earthy, moss, nutty,chalky    3.00  \n",
       "...          ...                                ...     ...  \n",
       "2525   B,S*,C,Sa             waxy, cloying, vegetal    2.75  \n",
       "2526       B,S,C          strong nutty, marshmallow    3.75  \n",
       "2527       B,S,C               fatty, earthy, cocoa    3.00  \n",
       "2528       B,S,C       fatty, mild nuts, mild fruit    3.25  \n",
       "2529       B,S,C          muted, roasty, accessible    3.50  \n",
       "\n",
       "[2530 rows x 11 columns]"
      ]
     },
     "execution_count": 4,
     "metadata": {},
     "output_type": "execute_result"
    }
   ],
   "source": [
    "import pandas as pd\n",
    "chocolate = pd.read_csv(\"../data/raw/chocolate_bars.csv\")\n",
    "chocolate"
   ]
  },
  {
   "cell_type": "markdown",
   "metadata": {},
   "source": [
    "# Using the data\n",
    "* I'd like to do some cleaning for the data, and ask a new question (see below)."
   ]
  },
  {
   "cell_type": "code",
   "execution_count": 5,
   "metadata": {},
   "outputs": [
    {
     "name": "stdout",
     "output_type": "stream",
     "text": [
      "<class 'pandas.core.frame.DataFrame'>\n",
      "RangeIndex: 2530 entries, 0 to 2529\n",
      "Data columns (total 11 columns):\n",
      " #   Column            Non-Null Count  Dtype  \n",
      "---  ------            --------------  -----  \n",
      " 0   id                2530 non-null   int64  \n",
      " 1   manufacturer      2530 non-null   object \n",
      " 2   company_location  2530 non-null   object \n",
      " 3   year_reviewed     2530 non-null   int64  \n",
      " 4   bean_origin       2530 non-null   object \n",
      " 5   bar_name          2530 non-null   object \n",
      " 6   cocoa_percent     2530 non-null   float64\n",
      " 7   num_ingredients   2443 non-null   float64\n",
      " 8   ingredients       2443 non-null   object \n",
      " 9   review            2530 non-null   object \n",
      " 10  rating            2530 non-null   float64\n",
      "dtypes: float64(3), int64(2), object(6)\n",
      "memory usage: 217.5+ KB\n"
     ]
    }
   ],
   "source": [
    "chocolate.info()"
   ]
  },
  {
   "cell_type": "markdown",
   "metadata": {},
   "source": [
    "### Filling in missing values\n",
    "* I notice that the 'num_ingredients' and 'ingredients' columns have missing values\n",
    "* I'll replace NaN with 0 and 'None' for the two columns respectively"
   ]
  },
  {
   "cell_type": "code",
   "execution_count": 9,
   "metadata": {},
   "outputs": [
    {
     "name": "stdout",
     "output_type": "stream",
     "text": [
      "<class 'pandas.core.frame.DataFrame'>\n",
      "RangeIndex: 2530 entries, 0 to 2529\n",
      "Data columns (total 11 columns):\n",
      " #   Column            Non-Null Count  Dtype  \n",
      "---  ------            --------------  -----  \n",
      " 0   id                2530 non-null   int64  \n",
      " 1   manufacturer      2530 non-null   object \n",
      " 2   company_location  2530 non-null   object \n",
      " 3   year_reviewed     2530 non-null   int64  \n",
      " 4   bean_origin       2530 non-null   object \n",
      " 5   bar_name          2530 non-null   object \n",
      " 6   cocoa_percent     2530 non-null   float64\n",
      " 7   num_ingredients   2530 non-null   float64\n",
      " 8   ingredients       2530 non-null   object \n",
      " 9   review            2530 non-null   object \n",
      " 10  rating            2530 non-null   float64\n",
      "dtypes: float64(3), int64(2), object(6)\n",
      "memory usage: 217.5+ KB\n"
     ]
    }
   ],
   "source": [
    "values = {'num_ingredients': 0, 'ingredients': 'None'}\n",
    "chocolate.fillna(value = values, inplace=True)\n",
    "chocolate.info()"
   ]
  },
  {
   "cell_type": "markdown",
   "metadata": {},
   "source": [
    "### Type conversion\n",
    "* I also notice that the data type for 'num_ingredients' is float64. I'd like to convert it to int64"
   ]
  },
  {
   "cell_type": "code",
   "execution_count": 14,
   "metadata": {},
   "outputs": [
    {
     "data": {
      "text/plain": [
       "id                    int64\n",
       "manufacturer         object\n",
       "company_location     object\n",
       "year_reviewed         int64\n",
       "bean_origin          object\n",
       "bar_name             object\n",
       "cocoa_percent       float64\n",
       "num_ingredients       int64\n",
       "ingredients          object\n",
       "review               object\n",
       "rating              float64\n",
       "dtype: object"
      ]
     },
     "execution_count": 14,
     "metadata": {},
     "output_type": "execute_result"
    }
   ],
   "source": [
    "chocolate = chocolate.astype({'num_ingredients': 'int64'})\n",
    "chocolate.dtypes"
   ]
  },
  {
   "cell_type": "markdown",
   "metadata": {},
   "source": [
    "### Visualization\n",
    "* I found some keywords in the 'review' column, and I'm curious about what keywords associate with higher ratings\n",
    "* I select 5 keywords that I'm interested in: fruit (or fruity), sweet, sandy, cream (creamy), and nutty"
   ]
  },
  {
   "cell_type": "code",
   "execution_count": 27,
   "metadata": {},
   "outputs": [],
   "source": [
    "# filter the chocolate dataframe, and store subgroups into new dataframes\n",
    "fruit = chocolate[chocolate['review'].str.contains('fruit')]\n",
    "sweet = chocolate[chocolate['review'].str.contains('sweet')]\n",
    "sandy = chocolate[chocolate['review'].str.contains('sandy')]\n",
    "cream = chocolate[chocolate['review'].str.contains('cream')]\n",
    "nutty = chocolate[chocolate['review'].str.contains('nutty')]"
   ]
  },
  {
   "cell_type": "code",
   "execution_count": 31,
   "metadata": {},
   "outputs": [
    {
     "data": {
      "image/png": "[encoded data removed]",
      "text/plain": [
       "<Figure size 432x288 with 1 Axes>"
      ]
     },
     "metadata": {
      "needs_background": "light"
     },
     "output_type": "display_data"
    }
   ],
   "source": [
    "# calculate the average rating of those subgroups\n",
    "keywords = ['fruit', 'sweet', 'sandy', 'cream', 'nutty']\n",
    "ratings = []\n",
    "ratings.append(fruit['rating'].mean())\n",
    "ratings.append(sweet['rating'].mean())\n",
    "ratings.append(sandy['rating'].mean())\n",
    "ratings.append(cream['rating'].mean())\n",
    "ratings.append(nutty['rating'].mean())\n",
    "\n",
    "# draw a plot to see the association\n",
    "import matplotlib.pyplot as plt\n",
    "plt.bar(keywords, ratings)\n",
    "plt.show()"
   ]
  },
  {
   "cell_type": "markdown",
   "metadata": {},
   "source": [
    "* According to the bar chart, 'cream' seems to associate with higher ratings, while 'sweet' and 'sandy' associate with lower ratings\n",
    "* But what about the statistics summary of the 5 keywords subgroups? Do they have similar statistics features?"
   ]
  },
  {
   "cell_type": "markdown",
   "metadata": {},
   "source": [
    "### Calculate summary statistics"
   ]
  },
  {
   "cell_type": "code",
   "execution_count": 45,
   "metadata": {},
   "outputs": [
    {
     "data": {
      "text/html": [
       "<div>\n",
       "<style scoped>\n",
       "    .dataframe tbody tr th:only-of-type {\n",
       "        vertical-align: middle;\n",
       "    }\n",
       "\n",
       "    .dataframe tbody tr th {\n",
       "        vertical-align: top;\n",
       "    }\n",
       "\n",
       "    .dataframe thead th {\n",
       "        text-align: right;\n",
       "    }\n",
       "</style>\n",
       "<table border=\"1\" class=\"dataframe\">\n",
       "  <thead>\n",
       "    <tr style=\"text-align: right;\">\n",
       "      <th></th>\n",
       "      <th>count</th>\n",
       "      <th>mean</th>\n",
       "      <th>std</th>\n",
       "      <th>min</th>\n",
       "      <th>25%</th>\n",
       "      <th>50%</th>\n",
       "      <th>75%</th>\n",
       "      <th>max</th>\n",
       "    </tr>\n",
       "  </thead>\n",
       "  <tbody>\n",
       "    <tr>\n",
       "      <th>fruit</th>\n",
       "      <td>334.0</td>\n",
       "      <td>3.309132</td>\n",
       "      <td>0.403233</td>\n",
       "      <td>1.50</td>\n",
       "      <td>3.00</td>\n",
       "      <td>3.25</td>\n",
       "      <td>3.50</td>\n",
       "      <td>4.00</td>\n",
       "    </tr>\n",
       "    <tr>\n",
       "      <th>sweet</th>\n",
       "      <td>318.0</td>\n",
       "      <td>3.055818</td>\n",
       "      <td>0.361044</td>\n",
       "      <td>2.00</td>\n",
       "      <td>2.75</td>\n",
       "      <td>3.00</td>\n",
       "      <td>3.25</td>\n",
       "      <td>4.00</td>\n",
       "    </tr>\n",
       "    <tr>\n",
       "      <th>sandy</th>\n",
       "      <td>173.0</td>\n",
       "      <td>3.095376</td>\n",
       "      <td>0.368066</td>\n",
       "      <td>2.00</td>\n",
       "      <td>2.75</td>\n",
       "      <td>3.00</td>\n",
       "      <td>3.50</td>\n",
       "      <td>3.75</td>\n",
       "    </tr>\n",
       "    <tr>\n",
       "      <th>cream</th>\n",
       "      <td>198.0</td>\n",
       "      <td>3.478535</td>\n",
       "      <td>0.425079</td>\n",
       "      <td>1.50</td>\n",
       "      <td>3.25</td>\n",
       "      <td>3.50</td>\n",
       "      <td>3.75</td>\n",
       "      <td>4.00</td>\n",
       "    </tr>\n",
       "    <tr>\n",
       "      <th>nutty</th>\n",
       "      <td>278.0</td>\n",
       "      <td>3.288669</td>\n",
       "      <td>0.392377</td>\n",
       "      <td>1.75</td>\n",
       "      <td>3.00</td>\n",
       "      <td>3.25</td>\n",
       "      <td>3.50</td>\n",
       "      <td>4.00</td>\n",
       "    </tr>\n",
       "  </tbody>\n",
       "</table>\n",
       "</div>"
      ],
      "text/plain": [
       "       count      mean       std   min   25%   50%   75%   max\n",
       "fruit  334.0  3.309132  0.403233  1.50  3.00  3.25  3.50  4.00\n",
       "sweet  318.0  3.055818  0.361044  2.00  2.75  3.00  3.25  4.00\n",
       "sandy  173.0  3.095376  0.368066  2.00  2.75  3.00  3.50  3.75\n",
       "cream  198.0  3.478535  0.425079  1.50  3.25  3.50  3.75  4.00\n",
       "nutty  278.0  3.288669  0.392377  1.75  3.00  3.25  3.50  4.00"
      ]
     },
     "execution_count": 45,
     "metadata": {},
     "output_type": "execute_result"
    }
   ],
   "source": [
    "# combine the summary statistics of the ratings of the 5 keyword subgroups into a new dataframe\n",
    "stat = pd.DataFrame([fruit['rating'].describe(), sweet['rating'].describe(), sandy['rating'].describe(), cream['rating'].describe(), nutty['rating'].describe()], index=keywords)\n",
    "stat"
   ]
  },
  {
   "cell_type": "markdown",
   "metadata": {},
   "source": [
    "* First of all, the sample sizes of the 5 subgroups have huge differences. The sample size of 'sandy' subgroup is only about half of the 'fruit' subgroup;\n",
    "* Secondly, the 'cream' subgroup has the highest std as well as the highest average rating; it also has the largest dispersion in terms of percentiles;\n",
    "* In addition, higher average ratings seem to correlate with higher std. 'Cream' subgroup is in 1st place for both mean and std. 'Fruit' subgroup is in 2nd place for both mean and std. 'Nutty' subgroup is in 3rd place for both mean and std. This pattern is kept for all 5 subgroups. \n",
    "* Therefore, the differences in sample size and data dispersion may influence the previous results. We should be suspicious of the result and further examine the data by p-values or other tests."
   ]
  },
  {
   "cell_type": "code",
   "execution_count": null,
   "metadata": {},
   "outputs": [],
   "source": []
  }
 ],
 "metadata": {
  "kernelspec": {
   "display_name": "Python 3 (ipykernel)",
   "language": "python",
   "name": "python3"
  },
  "language_info": {
   "codemirror_mode": {
    "name": "ipython",
    "version": 3
   },
   "file_extension": ".py",
   "mimetype": "text/x-python",
   "name": "python",
   "nbconvert_exporter": "python",
   "pygments_lexer": "ipython3",
   "version": "3.9.12"
  }
 },
 "nbformat": 4,
 "nbformat_minor": 4
}
